{
  "nbformat": 4,
  "nbformat_minor": 0,
  "metadata": {
    "colab": {
      "name": "data_viz.ipynb",
      "provenance": [],
      "collapsed_sections": [],
      "toc_visible": true,
      "authorship_tag": "ABX9TyOG8Vjju8hFhdu2ycg08vHx",
      "include_colab_link": true
    },
    "kernelspec": {
      "name": "python3",
      "display_name": "Python 3"
    }
  },
  "cells": [
    {
      "cell_type": "markdown",
      "metadata": {
        "id": "view-in-github",
        "colab_type": "text"
      },
      "source": [
        "<a href=\"https://colab.research.google.com/github/amrukwa/program_mentorski/blob/master/data_viz.ipynb\" target=\"_parent\"><img src=\"https://colab.research.google.com/assets/colab-badge.svg\" alt=\"Open In Colab\"/></a>"
      ]
    },
    {
      "cell_type": "markdown",
      "metadata": {
        "id": "eTsVUqMDtB8M",
        "colab_type": "text"
      },
      "source": [
        "# Barplots\n"
      ]
    },
    {
      "cell_type": "markdown",
      "metadata": {
        "colab_type": "text",
        "id": "RVvmoMls-KZ0"
      },
      "source": [
        "## Basic barplots\n"
      ]
    },
    {
      "cell_type": "code",
      "metadata": {
        "id": "sggiwlLlSanO",
        "colab_type": "code",
        "cellView": "form",
        "colab": {}
      },
      "source": [
        "#@title Fake or real news\n",
        "#@tile"
      ],
      "execution_count": 12,
      "outputs": []
    },
    {
      "cell_type": "code",
      "metadata": {
        "id": "AGu9uisU6uUF",
        "colab_type": "code",
        "cellView": "form",
        "colab": {}
      },
      "source": [
        "#@title UFO Sightings"
      ],
      "execution_count": null,
      "outputs": []
    },
    {
      "cell_type": "markdown",
      "metadata": {
        "colab_type": "text",
        "id": "pIzPfxyd-e3R"
      },
      "source": [
        "## Stacked barplots\n"
      ]
    },
    {
      "cell_type": "code",
      "metadata": {
        "colab_type": "code",
        "cellView": "form",
        "id": "aw-1NI3Z9ALq",
        "colab": {}
      },
      "source": [
        "#@title Fake or real news"
      ],
      "execution_count": null,
      "outputs": []
    },
    {
      "cell_type": "code",
      "metadata": {
        "colab_type": "code",
        "cellView": "form",
        "id": "sGh1AkpL85Pk",
        "colab": {}
      },
      "source": [
        "#@title UFO Sightings"
      ],
      "execution_count": null,
      "outputs": []
    },
    {
      "cell_type": "markdown",
      "metadata": {
        "id": "YA4YGBNE6OKR",
        "colab_type": "text"
      },
      "source": [
        "## Grouped Barplots"
      ]
    },
    {
      "cell_type": "code",
      "metadata": {
        "colab_type": "code",
        "cellView": "form",
        "id": "K1Ks6T3N-pfX",
        "colab": {}
      },
      "source": [
        "#@title Fake or real news"
      ],
      "execution_count": null,
      "outputs": []
    },
    {
      "cell_type": "code",
      "metadata": {
        "colab_type": "code",
        "cellView": "form",
        "id": "XsaQTTsk-pfh",
        "colab": {}
      },
      "source": [
        "#@title UFO Sightings"
      ],
      "execution_count": null,
      "outputs": []
    },
    {
      "cell_type": "markdown",
      "metadata": {
        "id": "0_UtSO9H6cme",
        "colab_type": "text"
      },
      "source": [
        "# Pie plots"
      ]
    },
    {
      "cell_type": "code",
      "metadata": {
        "colab_type": "code",
        "cellView": "form",
        "id": "DBQO56aC-xcs",
        "colab": {}
      },
      "source": [
        "#@title Fake or real news"
      ],
      "execution_count": null,
      "outputs": []
    },
    {
      "cell_type": "code",
      "metadata": {
        "colab_type": "code",
        "cellView": "form",
        "id": "0JKb62zz-xcy",
        "colab": {}
      },
      "source": [
        "#@title UFO Sightings"
      ],
      "execution_count": null,
      "outputs": []
    },
    {
      "cell_type": "markdown",
      "metadata": {
        "id": "XDBcHXz66qkE",
        "colab_type": "text"
      },
      "source": [
        "## Doughnut\n"
      ]
    },
    {
      "cell_type": "code",
      "metadata": {
        "colab_type": "code",
        "cellView": "form",
        "id": "2NG9SNDc-4x_",
        "colab": {}
      },
      "source": [
        "#@title Fake or real news"
      ],
      "execution_count": null,
      "outputs": []
    },
    {
      "cell_type": "code",
      "metadata": {
        "colab_type": "code",
        "cellView": "form",
        "id": "2Q8X5Lxe-4yJ",
        "colab": {}
      },
      "source": [
        "#@title UFO Sightings"
      ],
      "execution_count": null,
      "outputs": []
    },
    {
      "cell_type": "markdown",
      "metadata": {
        "id": "CpRhWJbe7l5X",
        "colab_type": "text"
      },
      "source": [
        "# Wordcloud"
      ]
    },
    {
      "cell_type": "code",
      "metadata": {
        "colab_type": "code",
        "cellView": "form",
        "id": "4T2yTaRd-_JQ",
        "colab": {}
      },
      "source": [
        "#@title Fake or real news"
      ],
      "execution_count": null,
      "outputs": []
    }
  ]
}