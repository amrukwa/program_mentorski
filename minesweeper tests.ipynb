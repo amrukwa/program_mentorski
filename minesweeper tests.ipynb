{
 "cells": [
  {
   "cell_type": "markdown",
   "metadata": {},
   "source": [
    "# Welcome to the minesweeper game. Run the cells below to play."
   ]
  },
  {
   "cell_type": "code",
   "execution_count": null,
   "metadata": {},
   "outputs": [],
   "source": [
    "import numpy as np\n",
    "import pandas as pd\n",
    "import random as rd\n",
    "import plotly.express as px\n",
    "import plotly.graph_objects as go\n"
   ]
  },
  {
   "cell_type": "code",
   "execution_count": null,
   "metadata": {},
   "outputs": [],
   "source": [
    "def choose_mode():\n",
    "    mode = input(\"Choose the mode (1, 2 or 3): \")\n",
    "    if mode == '1':\n",
    "        height = 12\n",
    "        difficulty = 20\n",
    "    elif mode == '2':\n",
    "        height = 17\n",
    "        difficulty = 40\n",
    "    else:\n",
    "        height = 22\n",
    "        difficulty = 80\n",
    "    return height, difficulty"
   ]
  },
  {
   "cell_type": "code",
   "execution_count": null,
   "metadata": {},
   "outputs": [],
   "source": [
    "def get_mine():\n",
    "    x = rd.randint(1, size-2)  # without border conditions: 0 and 11 index\n",
    "    y = rd.randint(1, size-2)\n",
    "    if a[x][y] == 0:\n",
    "        a[x][y] = 100\n",
    "    else:\n",
    "        get_mine()"
   ]
  },
  {
   "cell_type": "code",
   "execution_count": null,
   "metadata": {},
   "outputs": [],
   "source": [
    "def add_mines():\n",
    "    for _ in range(quantity):\n",
    "        get_mine()"
   ]
  },
  {
   "cell_type": "code",
   "execution_count": null,
   "metadata": {},
   "outputs": [],
   "source": [
    "def neighbours(i, j):\n",
    "    sums = a[i][j+1] + a[i][j-1] + a[i-1][j] + a[i+1][j] + a[i-1][j-1] + a[i+1][j-1] + a[i+1][j+1] + a[i-1][j+1]\n",
    "    sums = (sums - sums % 100)/100\n",
    "    return sums"
   ]
  },
  {
   "cell_type": "code",
   "execution_count": null,
   "metadata": {},
   "outputs": [],
   "source": [
    "def label_danger(i, j):  # change for list comprehension\n",
    "    if i == 0 or j == 0 or i == size - 1 or j == size - 1:\n",
    "        return 0\n",
    "    elif a[i][j] == 100:\n",
    "        return 100\n",
    "    else:\n",
    "        return neighbours(i, j)"
   ]
  },
  {
   "cell_type": "code",
   "execution_count": null,
   "metadata": {},
   "outputs": [],
   "source": [
    "def optimize_mines(i, j):\n",
    "    if a[i][j] == 100:\n",
    "        return \"Game over!\"\n",
    "    else:\n",
    "        return str(a[i][j])"
   ]
  },
  {
   "cell_type": "markdown",
   "metadata": {},
   "source": [
    "# Here you should choose the size of your grid:"
   ]
  },
  {
   "cell_type": "code",
   "execution_count": null,
   "metadata": {},
   "outputs": [],
   "source": [
    "size, quantity = choose_mode()"
   ]
  },
  {
   "cell_type": "code",
   "execution_count": null,
   "metadata": {},
   "outputs": [],
   "source": [
    "a = [[0] * size for _ in range(size)]\n",
    "add_mines()\n",
    "a = [[label_danger(i, j) for i in range(size)] for j in range(size)]\n",
    "a = [[optimize_mines(i, j) for i in range(size)] for j in range(size)]\n",
    "np_a = np.array(a)[1:size-1, 1:size-1]\n",
    "np_a = np_a.flatten()"
   ]
  },
  {
   "cell_type": "code",
   "execution_count": null,
   "metadata": {},
   "outputs": [],
   "source": [
    "y = np.array([i % (size-2) for i in range((size-2)**2)]) #second variable\n",
    "x = np.array([(i - i % (size-2))/(size-2) for i in range((size-2)**2)])"
   ]
  },
  {
   "cell_type": "code",
   "execution_count": null,
   "metadata": {},
   "outputs": [],
   "source": [
    "color_dict = {'0.0': \"White\", '1.0':\"Green\", '2.0':\"Blue\", '3.0':\"#17becf\", '4.0': \"Brown\", '5.0': 'Pink', '6.0': \"Purple\", '7.0':\"Yellow\", '8.0':\"Orange\", 'Game over!': \"Black\"}\n",
    "size_dict = {'0.0': 0, '1.0':12, '2.0':13, '3.0': 14, '4.0': 15, '5.0': 16, '6.0': 17, '7.0': 18, '8.0':19, 'Game over!': 50}"
   ]
  },
  {
   "cell_type": "code",
   "execution_count": null,
   "metadata": {},
   "outputs": [],
   "source": [
    "color_type = [color_dict[np_a[i]] for i in range((size-2)**2)]\n",
    "size_type = [size_dict[np_a[i]] for i in range((size-2)**2)]"
   ]
  },
  {
   "cell_type": "code",
   "execution_count": null,
   "metadata": {
    "scrolled": true
   },
   "outputs": [],
   "source": [
    "\n",
    "fig = go.FigureWidget([go.Scatter(x=x, y=y, mode='markers', text = \"No data\")])\n",
    "\n",
    "scatter = fig.data[0]\n",
    "scatter.marker.color = [\"Grey\"] * (size - 2)**2\n",
    "scatter.marker.size = [20] * (size - 2)**2\n",
    "scatter.text = [\"No data\"] * (size - 2)**2\n",
    "fig.layout.hovermode = 'closest'"
   ]
  },
  {
   "cell_type": "code",
   "execution_count": null,
   "metadata": {},
   "outputs": [],
   "source": [
    "def do_for_mine():\n",
    "    fig.update_layout(title=\"Try again...\")\n",
    "    scatter.marker.color = color_type\n",
    "    scatter.marker.size = size_type\n",
    "    scatter.text = np_a"
   ]
  },
  {
   "cell_type": "code",
   "execution_count": null,
   "metadata": {},
   "outputs": [],
   "source": [
    "def do_for_0():\n",
    "    pass"
   ]
  },
  {
   "cell_type": "code",
   "execution_count": null,
   "metadata": {},
   "outputs": [],
   "source": [
    "# create our callback function\n",
    "def update_point(trace, points, selector):\n",
    "    c = list(scatter.marker.color)\n",
    "    s = list(scatter.marker.size)\n",
    "    t = list(scatter.text)\n",
    "    for i in points.point_inds:\n",
    "        c[i] = color_type[i]\n",
    "        s[i] = size_type[i]\n",
    "        t[i] = np_a[i]\n",
    "        if t[i] == 'Game over!':                \n",
    "            do_for_mine()  # add do_for_mine function automatically showing all\n",
    "        else:\n",
    "            if scatter.marker.color.count(\"Grey\") == quantity + 1:\n",
    "                fig.update_layout(title=\"Excellent! You did it!\")\n",
    "            else:\n",
    "                fig.update_layout(title=\"Keep exploring...\")\n",
    "            # add do_for_0 function automatically showing neighbours\n",
    "            with fig.batch_update():\n",
    "                scatter.marker.color = c\n",
    "                scatter.marker.size = s\n",
    "                scatter.text = t\n",
    "                \n",
    "        \n",
    "\n",
    "\n",
    "scatter.on_click(update_point)"
   ]
  },
  {
   "cell_type": "markdown",
   "metadata": {},
   "source": [
    "# Here is your grid. Good luck!"
   ]
  },
  {
   "cell_type": "code",
   "execution_count": null,
   "metadata": {},
   "outputs": [],
   "source": [
    "fig"
   ]
  }
 ],
 "metadata": {
  "kernelspec": {
   "display_name": "Python 3",
   "language": "python",
   "name": "python3"
  },
  "language_info": {
   "codemirror_mode": {
    "name": "ipython",
    "version": 3
   },
   "file_extension": ".py",
   "mimetype": "text/x-python",
   "name": "python",
   "nbconvert_exporter": "python",
   "pygments_lexer": "ipython3",
   "version": "3.7.1"
  }
 },
 "nbformat": 4,
 "nbformat_minor": 2
}
